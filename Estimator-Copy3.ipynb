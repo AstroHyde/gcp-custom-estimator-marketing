{
 "cells": [
  {
   "cell_type": "code",
   "execution_count": 2,
   "metadata": {},
   "outputs": [],
   "source": [
    "from datalab.context import Context\n",
    "import google.datalab.storage as storage\n",
    "import google.datalab.bigquery as bq\n",
    "import matplotlib.pyplot as plt\n",
    "import matplotlib.dates as mdates\n",
    "import seaborn as sns\n",
    "import pandas as pd\n",
    "import numpy as np\n",
    "import shutil\n",
    "import time\n",
    "\n",
    "import argparse\n",
    "import tensorflow as tf\n"
   ]
  },
  {
   "cell_type": "code",
   "execution_count": 2,
   "metadata": {},
   "outputs": [],
   "source": [
    "# tf.enable_eager_execution() #enable eager execution to inspect this program as we run it \n",
    "#disable for estimators"
   ]
  },
  {
   "cell_type": "code",
   "execution_count": 3,
   "metadata": {},
   "outputs": [
    {
     "data": {
      "text/html": [
       "\n",
       "    <div class=\"bqsv\" id=\"1_154251529841\"></div>\n",
       "    <script src=\"/static/components/requirejs/require.js\"></script>\n",
       "    <script>\n",
       "      require.config({\n",
       "        paths: {\n",
       "          base: '/static/base',\n",
       "        },\n",
       "        map: {\n",
       "          '*': {\n",
       "            datalab: 'nbextensions/gcpdatalab'\n",
       "          }\n",
       "        },\n",
       "      });\n",
       "\n",
       "      require(['datalab/bigquery', 'datalab/element!1_154251529841',\n",
       "          'datalab/style!/nbextensions/gcpdatalab/bigquery.css'],\n",
       "        function(bq, dom) {\n",
       "          bq.renderSchema(dom, [{\"name\": \"visitorId\", \"mode\": \"NULLABLE\", \"type\": \"INTEGER\"}, {\"name\": \"visitNumber\", \"mode\": \"NULLABLE\", \"type\": \"INTEGER\"}, {\"name\": \"visitId\", \"mode\": \"NULLABLE\", \"type\": \"INTEGER\"}, {\"name\": \"visitStartTime\", \"mode\": \"NULLABLE\", \"type\": \"INTEGER\"}, {\"name\": \"date\", \"mode\": \"NULLABLE\", \"type\": \"STRING\"}, {\"name\": \"totals\", \"mode\": \"NULLABLE\", \"type\": \"RECORD\", \"fields\": [{\"name\": \"visits\", \"mode\": \"NULLABLE\", \"type\": \"INTEGER\"}, {\"name\": \"hits\", \"mode\": \"NULLABLE\", \"type\": \"INTEGER\"}, {\"name\": \"pageviews\", \"mode\": \"NULLABLE\", \"type\": \"INTEGER\"}, {\"name\": \"timeOnSite\", \"mode\": \"NULLABLE\", \"type\": \"INTEGER\"}, {\"name\": \"bounces\", \"mode\": \"NULLABLE\", \"type\": \"INTEGER\"}, {\"name\": \"transactions\", \"mode\": \"NULLABLE\", \"type\": \"INTEGER\"}, {\"name\": \"transactionRevenue\", \"mode\": \"NULLABLE\", \"type\": \"INTEGER\"}, {\"name\": \"newVisits\", \"mode\": \"NULLABLE\", \"type\": \"INTEGER\"}, {\"name\": \"screenviews\", \"mode\": \"NULLABLE\", \"type\": \"INTEGER\"}, {\"name\": \"uniqueScreenviews\", \"mode\": \"NULLABLE\", \"type\": \"INTEGER\"}, {\"name\": \"timeOnScreen\", \"mode\": \"NULLABLE\", \"type\": \"INTEGER\"}, {\"name\": \"totalTransactionRevenue\", \"mode\": \"NULLABLE\", \"type\": \"INTEGER\"}, {\"name\": \"sessionQualityDim\", \"mode\": \"NULLABLE\", \"type\": \"INTEGER\"}]}, {\"name\": \"trafficSource\", \"mode\": \"NULLABLE\", \"type\": \"RECORD\", \"fields\": [{\"name\": \"referralPath\", \"mode\": \"NULLABLE\", \"type\": \"STRING\"}, {\"name\": \"campaign\", \"mode\": \"NULLABLE\", \"type\": \"STRING\"}, {\"name\": \"source\", \"mode\": \"NULLABLE\", \"type\": \"STRING\"}, {\"name\": \"medium\", \"mode\": \"NULLABLE\", \"type\": \"STRING\"}, {\"name\": \"keyword\", \"mode\": \"NULLABLE\", \"type\": \"STRING\"}, {\"name\": \"adContent\", \"mode\": \"NULLABLE\", \"type\": \"STRING\"}, {\"name\": \"adwordsClickInfo\", \"mode\": \"NULLABLE\", \"type\": \"RECORD\", \"fields\": [{\"name\": \"campaignId\", \"mode\": \"NULLABLE\", \"type\": \"INTEGER\"}, {\"name\": \"adGroupId\", \"mode\": \"NULLABLE\", \"type\": \"INTEGER\"}, {\"name\": \"creativeId\", \"mode\": \"NULLABLE\", \"type\": \"INTEGER\"}, {\"name\": \"criteriaId\", \"mode\": \"NULLABLE\", \"type\": \"INTEGER\"}, {\"name\": \"page\", \"mode\": \"NULLABLE\", \"type\": \"INTEGER\"}, {\"name\": \"slot\", \"mode\": \"NULLABLE\", \"type\": \"STRING\"}, {\"name\": \"criteriaParameters\", \"mode\": \"NULLABLE\", \"type\": \"STRING\"}, {\"name\": \"gclId\", \"mode\": \"NULLABLE\", \"type\": \"STRING\"}, {\"name\": \"customerId\", \"mode\": \"NULLABLE\", \"type\": \"INTEGER\"}, {\"name\": \"adNetworkType\", \"mode\": \"NULLABLE\", \"type\": \"STRING\"}, {\"name\": \"targetingCriteria\", \"mode\": \"NULLABLE\", \"type\": \"RECORD\", \"fields\": [{\"name\": \"boomUserlistId\", \"mode\": \"NULLABLE\", \"type\": \"INTEGER\"}]}, {\"name\": \"isVideoAd\", \"mode\": \"NULLABLE\", \"type\": \"BOOLEAN\"}]}, {\"name\": \"isTrueDirect\", \"mode\": \"NULLABLE\", \"type\": \"BOOLEAN\"}, {\"name\": \"campaignCode\", \"mode\": \"NULLABLE\", \"type\": \"STRING\"}]}, {\"name\": \"device\", \"mode\": \"NULLABLE\", \"type\": \"RECORD\", \"fields\": [{\"name\": \"browser\", \"mode\": \"NULLABLE\", \"type\": \"STRING\"}, {\"name\": \"browserVersion\", \"mode\": \"NULLABLE\", \"type\": \"STRING\"}, {\"name\": \"browserSize\", \"mode\": \"NULLABLE\", \"type\": \"STRING\"}, {\"name\": \"operatingSystem\", \"mode\": \"NULLABLE\", \"type\": \"STRING\"}, {\"name\": \"operatingSystemVersion\", \"mode\": \"NULLABLE\", \"type\": \"STRING\"}, {\"name\": \"isMobile\", \"mode\": \"NULLABLE\", \"type\": \"BOOLEAN\"}, {\"name\": \"mobileDeviceBranding\", \"mode\": \"NULLABLE\", \"type\": \"STRING\"}, {\"name\": \"mobileDeviceModel\", \"mode\": \"NULLABLE\", \"type\": \"STRING\"}, {\"name\": \"mobileInputSelector\", \"mode\": \"NULLABLE\", \"type\": \"STRING\"}, {\"name\": \"mobileDeviceInfo\", \"mode\": \"NULLABLE\", \"type\": \"STRING\"}, {\"name\": \"mobileDeviceMarketingName\", \"mode\": \"NULLABLE\", \"type\": \"STRING\"}, {\"name\": \"flashVersion\", \"mode\": \"NULLABLE\", \"type\": \"STRING\"}, {\"name\": \"javaEnabled\", \"mode\": \"NULLABLE\", \"type\": \"BOOLEAN\"}, {\"name\": \"language\", \"mode\": \"NULLABLE\", \"type\": \"STRING\"}, {\"name\": \"screenColors\", \"mode\": \"NULLABLE\", \"type\": \"STRING\"}, {\"name\": \"screenResolution\", \"mode\": \"NULLABLE\", \"type\": \"STRING\"}, {\"name\": \"deviceCategory\", \"mode\": \"NULLABLE\", \"type\": \"STRING\"}]}, {\"name\": \"geoNetwork\", \"mode\": \"NULLABLE\", \"type\": \"RECORD\", \"fields\": [{\"name\": \"continent\", \"mode\": \"NULLABLE\", \"type\": \"STRING\"}, {\"name\": \"subContinent\", \"mode\": \"NULLABLE\", \"type\": \"STRING\"}, {\"name\": \"country\", \"mode\": \"NULLABLE\", \"type\": \"STRING\"}, {\"name\": \"region\", \"mode\": \"NULLABLE\", \"type\": \"STRING\"}, {\"name\": \"metro\", \"mode\": \"NULLABLE\", \"type\": \"STRING\"}, {\"name\": \"city\", \"mode\": \"NULLABLE\", \"type\": \"STRING\"}, {\"name\": \"cityId\", \"mode\": \"NULLABLE\", \"type\": \"STRING\"}, {\"name\": \"networkDomain\", \"mode\": \"NULLABLE\", \"type\": \"STRING\"}, {\"name\": \"latitude\", \"mode\": \"NULLABLE\", \"type\": \"STRING\"}, {\"name\": \"longitude\", \"mode\": \"NULLABLE\", \"type\": \"STRING\"}, {\"name\": \"networkLocation\", \"mode\": \"NULLABLE\", \"type\": \"STRING\"}]}, {\"name\": \"customDimensions\", \"mode\": \"REPEATED\", \"type\": \"RECORD\", \"fields\": [{\"name\": \"index\", \"mode\": \"NULLABLE\", \"type\": \"INTEGER\"}, {\"name\": \"value\", \"mode\": \"NULLABLE\", \"type\": \"STRING\"}]}, {\"name\": \"hits\", \"mode\": \"REPEATED\", \"type\": \"RECORD\", \"fields\": [{\"name\": \"hitNumber\", \"mode\": \"NULLABLE\", \"type\": \"INTEGER\"}, {\"name\": \"time\", \"mode\": \"NULLABLE\", \"type\": \"INTEGER\"}, {\"name\": \"hour\", \"mode\": \"NULLABLE\", \"type\": \"INTEGER\"}, {\"name\": \"minute\", \"mode\": \"NULLABLE\", \"type\": \"INTEGER\"}, {\"name\": \"isSecure\", \"mode\": \"NULLABLE\", \"type\": \"BOOLEAN\"}, {\"name\": \"isInteraction\", \"mode\": \"NULLABLE\", \"type\": \"BOOLEAN\"}, {\"name\": \"isEntrance\", \"mode\": \"NULLABLE\", \"type\": \"BOOLEAN\"}, {\"name\": \"isExit\", \"mode\": \"NULLABLE\", \"type\": \"BOOLEAN\"}, {\"name\": \"referer\", \"mode\": \"NULLABLE\", \"type\": \"STRING\"}, {\"name\": \"page\", \"mode\": \"NULLABLE\", \"type\": \"RECORD\", \"fields\": [{\"name\": \"pagePath\", \"mode\": \"NULLABLE\", \"type\": \"STRING\"}, {\"name\": \"hostname\", \"mode\": \"NULLABLE\", \"type\": \"STRING\"}, {\"name\": \"pageTitle\", \"mode\": \"NULLABLE\", \"type\": \"STRING\"}, {\"name\": \"searchKeyword\", \"mode\": \"NULLABLE\", \"type\": \"STRING\"}, {\"name\": \"searchCategory\", \"mode\": \"NULLABLE\", \"type\": \"STRING\"}, {\"name\": \"pagePathLevel1\", \"mode\": \"NULLABLE\", \"type\": \"STRING\"}, {\"name\": \"pagePathLevel2\", \"mode\": \"NULLABLE\", \"type\": \"STRING\"}, {\"name\": \"pagePathLevel3\", \"mode\": \"NULLABLE\", \"type\": \"STRING\"}, {\"name\": \"pagePathLevel4\", \"mode\": \"NULLABLE\", \"type\": \"STRING\"}]}, {\"name\": \"transaction\", \"mode\": \"NULLABLE\", \"type\": \"RECORD\", \"fields\": [{\"name\": \"transactionId\", \"mode\": \"NULLABLE\", \"type\": \"STRING\"}, {\"name\": \"transactionRevenue\", \"mode\": \"NULLABLE\", \"type\": \"INTEGER\"}, {\"name\": \"transactionTax\", \"mode\": \"NULLABLE\", \"type\": \"INTEGER\"}, {\"name\": \"transactionShipping\", \"mode\": \"NULLABLE\", \"type\": \"INTEGER\"}, {\"name\": \"affiliation\", \"mode\": \"NULLABLE\", \"type\": \"STRING\"}, {\"name\": \"currencyCode\", \"mode\": \"NULLABLE\", \"type\": \"STRING\"}, {\"name\": \"localTransactionRevenue\", \"mode\": \"NULLABLE\", \"type\": \"INTEGER\"}, {\"name\": \"localTransactionTax\", \"mode\": \"NULLABLE\", \"type\": \"INTEGER\"}, {\"name\": \"localTransactionShipping\", \"mode\": \"NULLABLE\", \"type\": \"INTEGER\"}, {\"name\": \"transactionCoupon\", \"mode\": \"NULLABLE\", \"type\": \"STRING\"}]}, {\"name\": \"item\", \"mode\": \"NULLABLE\", \"type\": \"RECORD\", \"fields\": [{\"name\": \"transactionId\", \"mode\": \"NULLABLE\", \"type\": \"STRING\"}, {\"name\": \"productName\", \"mode\": \"NULLABLE\", \"type\": \"STRING\"}, {\"name\": \"productCategory\", \"mode\": \"NULLABLE\", \"type\": \"STRING\"}, {\"name\": \"productSku\", \"mode\": \"NULLABLE\", \"type\": \"STRING\"}, {\"name\": \"itemQuantity\", \"mode\": \"NULLABLE\", \"type\": \"INTEGER\"}, {\"name\": \"itemRevenue\", \"mode\": \"NULLABLE\", \"type\": \"INTEGER\"}, {\"name\": \"currencyCode\", \"mode\": \"NULLABLE\", \"type\": \"STRING\"}, {\"name\": \"localItemRevenue\", \"mode\": \"NULLABLE\", \"type\": \"INTEGER\"}]}, {\"name\": \"contentInfo\", \"mode\": \"NULLABLE\", \"type\": \"RECORD\", \"fields\": [{\"name\": \"contentDescription\", \"mode\": \"NULLABLE\", \"type\": \"STRING\"}]}, {\"name\": \"appInfo\", \"mode\": \"NULLABLE\", \"type\": \"RECORD\", \"fields\": [{\"name\": \"name\", \"mode\": \"NULLABLE\", \"type\": \"STRING\"}, {\"name\": \"version\", \"mode\": \"NULLABLE\", \"type\": \"STRING\"}, {\"name\": \"id\", \"mode\": \"NULLABLE\", \"type\": \"STRING\"}, {\"name\": \"installerId\", \"mode\": \"NULLABLE\", \"type\": \"STRING\"}, {\"name\": \"appInstallerId\", \"mode\": \"NULLABLE\", \"type\": \"STRING\"}, {\"name\": \"appName\", \"mode\": \"NULLABLE\", \"type\": \"STRING\"}, {\"name\": \"appVersion\", \"mode\": \"NULLABLE\", \"type\": \"STRING\"}, {\"name\": \"appId\", \"mode\": \"NULLABLE\", \"type\": \"STRING\"}, {\"name\": \"screenName\", \"mode\": \"NULLABLE\", \"type\": \"STRING\"}, {\"name\": \"landingScreenName\", \"mode\": \"NULLABLE\", \"type\": \"STRING\"}, {\"name\": \"exitScreenName\", \"mode\": \"NULLABLE\", \"type\": \"STRING\"}, {\"name\": \"screenDepth\", \"mode\": \"NULLABLE\", \"type\": \"STRING\"}]}, {\"name\": \"exceptionInfo\", \"mode\": \"NULLABLE\", \"type\": \"RECORD\", \"fields\": [{\"name\": \"description\", \"mode\": \"NULLABLE\", \"type\": \"STRING\"}, {\"name\": \"isFatal\", \"mode\": \"NULLABLE\", \"type\": \"BOOLEAN\"}, {\"name\": \"exceptions\", \"mode\": \"NULLABLE\", \"type\": \"INTEGER\"}, {\"name\": \"fatalExceptions\", \"mode\": \"NULLABLE\", \"type\": \"INTEGER\"}]}, {\"name\": \"eventInfo\", \"mode\": \"NULLABLE\", \"type\": \"RECORD\", \"fields\": [{\"name\": \"eventCategory\", \"mode\": \"NULLABLE\", \"type\": \"STRING\"}, {\"name\": \"eventAction\", \"mode\": \"NULLABLE\", \"type\": \"STRING\"}, {\"name\": \"eventLabel\", \"mode\": \"NULLABLE\", \"type\": \"STRING\"}, {\"name\": \"eventValue\", \"mode\": \"NULLABLE\", \"type\": \"INTEGER\"}]}, {\"name\": \"product\", \"mode\": \"REPEATED\", \"type\": \"RECORD\", \"fields\": [{\"name\": \"productSKU\", \"mode\": \"NULLABLE\", \"type\": \"STRING\"}, {\"name\": \"v2ProductName\", \"mode\": \"NULLABLE\", \"type\": \"STRING\"}, {\"name\": \"v2ProductCategory\", \"mode\": \"NULLABLE\", \"type\": \"STRING\"}, {\"name\": \"productVariant\", \"mode\": \"NULLABLE\", \"type\": \"STRING\"}, {\"name\": \"productBrand\", \"mode\": \"NULLABLE\", \"type\": \"STRING\"}, {\"name\": \"productRevenue\", \"mode\": \"NULLABLE\", \"type\": \"INTEGER\"}, {\"name\": \"localProductRevenue\", \"mode\": \"NULLABLE\", \"type\": \"INTEGER\"}, {\"name\": \"productPrice\", \"mode\": \"NULLABLE\", \"type\": \"INTEGER\"}, {\"name\": \"localProductPrice\", \"mode\": \"NULLABLE\", \"type\": \"INTEGER\"}, {\"name\": \"productQuantity\", \"mode\": \"NULLABLE\", \"type\": \"INTEGER\"}, {\"name\": \"productRefundAmount\", \"mode\": \"NULLABLE\", \"type\": \"INTEGER\"}, {\"name\": \"localProductRefundAmount\", \"mode\": \"NULLABLE\", \"type\": \"INTEGER\"}, {\"name\": \"isImpression\", \"mode\": \"NULLABLE\", \"type\": \"BOOLEAN\"}, {\"name\": \"isClick\", \"mode\": \"NULLABLE\", \"type\": \"BOOLEAN\"}, {\"name\": \"customDimensions\", \"mode\": \"REPEATED\", \"type\": \"RECORD\", \"fields\": [{\"name\": \"index\", \"mode\": \"NULLABLE\", \"type\": \"INTEGER\"}, {\"name\": \"value\", \"mode\": \"NULLABLE\", \"type\": \"STRING\"}]}, {\"name\": \"customMetrics\", \"mode\": \"REPEATED\", \"type\": \"RECORD\", \"fields\": [{\"name\": \"index\", \"mode\": \"NULLABLE\", \"type\": \"INTEGER\"}, {\"name\": \"value\", \"mode\": \"NULLABLE\", \"type\": \"INTEGER\"}]}, {\"name\": \"productListName\", \"mode\": \"NULLABLE\", \"type\": \"STRING\"}, {\"name\": \"productListPosition\", \"mode\": \"NULLABLE\", \"type\": \"INTEGER\"}, {\"name\": \"productCouponCode\", \"mode\": \"NULLABLE\", \"type\": \"STRING\"}]}, {\"name\": \"promotion\", \"mode\": \"REPEATED\", \"type\": \"RECORD\", \"fields\": [{\"name\": \"promoId\", \"mode\": \"NULLABLE\", \"type\": \"STRING\"}, {\"name\": \"promoName\", \"mode\": \"NULLABLE\", \"type\": \"STRING\"}, {\"name\": \"promoCreative\", \"mode\": \"NULLABLE\", \"type\": \"STRING\"}, {\"name\": \"promoPosition\", \"mode\": \"NULLABLE\", \"type\": \"STRING\"}]}, {\"name\": \"promotionActionInfo\", \"mode\": \"NULLABLE\", \"type\": \"RECORD\", \"fields\": [{\"name\": \"promoIsView\", \"mode\": \"NULLABLE\", \"type\": \"BOOLEAN\"}, {\"name\": \"promoIsClick\", \"mode\": \"NULLABLE\", \"type\": \"BOOLEAN\"}]}, {\"name\": \"refund\", \"mode\": \"NULLABLE\", \"type\": \"RECORD\", \"fields\": [{\"name\": \"refundAmount\", \"mode\": \"NULLABLE\", \"type\": \"INTEGER\"}, {\"name\": \"localRefundAmount\", \"mode\": \"NULLABLE\", \"type\": \"INTEGER\"}]}, {\"name\": \"eCommerceAction\", \"mode\": \"NULLABLE\", \"type\": \"RECORD\", \"fields\": [{\"name\": \"action_type\", \"mode\": \"NULLABLE\", \"type\": \"STRING\"}, {\"name\": \"step\", \"mode\": \"NULLABLE\", \"type\": \"INTEGER\"}, {\"name\": \"option\", \"mode\": \"NULLABLE\", \"type\": \"STRING\"}]}, {\"name\": \"experiment\", \"mode\": \"REPEATED\", \"type\": \"RECORD\", \"fields\": [{\"name\": \"experimentId\", \"mode\": \"NULLABLE\", \"type\": \"STRING\"}, {\"name\": \"experimentVariant\", \"mode\": \"NULLABLE\", \"type\": \"STRING\"}]}, {\"name\": \"publisher\", \"mode\": \"NULLABLE\", \"type\": \"RECORD\", \"fields\": [{\"name\": \"dfpClicks\", \"mode\": \"NULLABLE\", \"type\": \"INTEGER\"}, {\"name\": \"dfpImpressions\", \"mode\": \"NULLABLE\", \"type\": \"INTEGER\"}, {\"name\": \"dfpMatchedQueries\", \"mode\": \"NULLABLE\", \"type\": \"INTEGER\"}, {\"name\": \"dfpMeasurableImpressions\", \"mode\": \"NULLABLE\", \"type\": \"INTEGER\"}, {\"name\": \"dfpQueries\", \"mode\": \"NULLABLE\", \"type\": \"INTEGER\"}, {\"name\": \"dfpRevenueCpm\", \"mode\": \"NULLABLE\", \"type\": \"INTEGER\"}, {\"name\": \"dfpRevenueCpc\", \"mode\": \"NULLABLE\", \"type\": \"INTEGER\"}, {\"name\": \"dfpViewableImpressions\", \"mode\": \"NULLABLE\", \"type\": \"INTEGER\"}, {\"name\": \"dfpPagesViewed\", \"mode\": \"NULLABLE\", \"type\": \"INTEGER\"}, {\"name\": \"adsenseBackfillDfpClicks\", \"mode\": \"NULLABLE\", \"type\": \"INTEGER\"}, {\"name\": \"adsenseBackfillDfpImpressions\", \"mode\": \"NULLABLE\", \"type\": \"INTEGER\"}, {\"name\": \"adsenseBackfillDfpMatchedQueries\", \"mode\": \"NULLABLE\", \"type\": \"INTEGER\"}, {\"name\": \"adsenseBackfillDfpMeasurableImpressions\", \"mode\": \"NULLABLE\", \"type\": \"INTEGER\"}, {\"name\": \"adsenseBackfillDfpQueries\", \"mode\": \"NULLABLE\", \"type\": \"INTEGER\"}, {\"name\": \"adsenseBackfillDfpRevenueCpm\", \"mode\": \"NULLABLE\", \"type\": \"INTEGER\"}, {\"name\": \"adsenseBackfillDfpRevenueCpc\", \"mode\": \"NULLABLE\", \"type\": \"INTEGER\"}, {\"name\": \"adsenseBackfillDfpViewableImpressions\", \"mode\": \"NULLABLE\", \"type\": \"INTEGER\"}, {\"name\": \"adsenseBackfillDfpPagesViewed\", \"mode\": \"NULLABLE\", \"type\": \"INTEGER\"}, {\"name\": \"adxBackfillDfpClicks\", \"mode\": \"NULLABLE\", \"type\": \"INTEGER\"}, {\"name\": \"adxBackfillDfpImpressions\", \"mode\": \"NULLABLE\", \"type\": \"INTEGER\"}, {\"name\": \"adxBackfillDfpMatchedQueries\", \"mode\": \"NULLABLE\", \"type\": \"INTEGER\"}, {\"name\": \"adxBackfillDfpMeasurableImpressions\", \"mode\": \"NULLABLE\", \"type\": \"INTEGER\"}, {\"name\": \"adxBackfillDfpQueries\", \"mode\": \"NULLABLE\", \"type\": \"INTEGER\"}, {\"name\": \"adxBackfillDfpRevenueCpm\", \"mode\": \"NULLABLE\", \"type\": \"INTEGER\"}, {\"name\": \"adxBackfillDfpRevenueCpc\", \"mode\": \"NULLABLE\", \"type\": \"INTEGER\"}, {\"name\": \"adxBackfillDfpViewableImpressions\", \"mode\": \"NULLABLE\", \"type\": \"INTEGER\"}, {\"name\": \"adxBackfillDfpPagesViewed\", \"mode\": \"NULLABLE\", \"type\": \"INTEGER\"}, {\"name\": \"adxClicks\", \"mode\": \"NULLABLE\", \"type\": \"INTEGER\"}, {\"name\": \"adxImpressions\", \"mode\": \"NULLABLE\", \"type\": \"INTEGER\"}, {\"name\": \"adxMatchedQueries\", \"mode\": \"NULLABLE\", \"type\": \"INTEGER\"}, {\"name\": \"adxMeasurableImpressions\", \"mode\": \"NULLABLE\", \"type\": \"INTEGER\"}, {\"name\": \"adxQueries\", \"mode\": \"NULLABLE\", \"type\": \"INTEGER\"}, {\"name\": \"adxRevenue\", \"mode\": \"NULLABLE\", \"type\": \"INTEGER\"}, {\"name\": \"adxViewableImpressions\", \"mode\": \"NULLABLE\", \"type\": \"INTEGER\"}, {\"name\": \"adxPagesViewed\", \"mode\": \"NULLABLE\", \"type\": \"INTEGER\"}, {\"name\": \"adsViewed\", \"mode\": \"NULLABLE\", \"type\": \"INTEGER\"}, {\"name\": \"adsUnitsViewed\", \"mode\": \"NULLABLE\", \"type\": \"INTEGER\"}, {\"name\": \"adsUnitsMatched\", \"mode\": \"NULLABLE\", \"type\": \"INTEGER\"}, {\"name\": \"viewableAdsViewed\", \"mode\": \"NULLABLE\", \"type\": \"INTEGER\"}, {\"name\": \"measurableAdsViewed\", \"mode\": \"NULLABLE\", \"type\": \"INTEGER\"}, {\"name\": \"adsPagesViewed\", \"mode\": \"NULLABLE\", \"type\": \"INTEGER\"}, {\"name\": \"adsClicked\", \"mode\": \"NULLABLE\", \"type\": \"INTEGER\"}, {\"name\": \"adsRevenue\", \"mode\": \"NULLABLE\", \"type\": \"INTEGER\"}, {\"name\": \"dfpAdGroup\", \"mode\": \"NULLABLE\", \"type\": \"STRING\"}, {\"name\": \"dfpAdUnits\", \"mode\": \"NULLABLE\", \"type\": \"STRING\"}, {\"name\": \"dfpNetworkId\", \"mode\": \"NULLABLE\", \"type\": \"STRING\"}]}, {\"name\": \"customVariables\", \"mode\": \"REPEATED\", \"type\": \"RECORD\", \"fields\": [{\"name\": \"index\", \"mode\": \"NULLABLE\", \"type\": \"INTEGER\"}, {\"name\": \"customVarName\", \"mode\": \"NULLABLE\", \"type\": \"STRING\"}, {\"name\": \"customVarValue\", \"mode\": \"NULLABLE\", \"type\": \"STRING\"}]}, {\"name\": \"customDimensions\", \"mode\": \"REPEATED\", \"type\": \"RECORD\", \"fields\": [{\"name\": \"index\", \"mode\": \"NULLABLE\", \"type\": \"INTEGER\"}, {\"name\": \"value\", \"mode\": \"NULLABLE\", \"type\": \"STRING\"}]}, {\"name\": \"customMetrics\", \"mode\": \"REPEATED\", \"type\": \"RECORD\", \"fields\": [{\"name\": \"index\", \"mode\": \"NULLABLE\", \"type\": \"INTEGER\"}, {\"name\": \"value\", \"mode\": \"NULLABLE\", \"type\": \"INTEGER\"}]}, {\"name\": \"type\", \"mode\": \"NULLABLE\", \"type\": \"STRING\"}, {\"name\": \"social\", \"mode\": \"NULLABLE\", \"type\": \"RECORD\", \"fields\": [{\"name\": \"socialInteractionNetwork\", \"mode\": \"NULLABLE\", \"type\": \"STRING\"}, {\"name\": \"socialInteractionAction\", \"mode\": \"NULLABLE\", \"type\": \"STRING\"}, {\"name\": \"socialInteractions\", \"mode\": \"NULLABLE\", \"type\": \"INTEGER\"}, {\"name\": \"socialInteractionTarget\", \"mode\": \"NULLABLE\", \"type\": \"STRING\"}, {\"name\": \"socialNetwork\", \"mode\": \"NULLABLE\", \"type\": \"STRING\"}, {\"name\": \"uniqueSocialInteractions\", \"mode\": \"NULLABLE\", \"type\": \"INTEGER\"}, {\"name\": \"hasSocialSourceReferral\", \"mode\": \"NULLABLE\", \"type\": \"STRING\"}, {\"name\": \"socialInteractionNetworkAction\", \"mode\": \"NULLABLE\", \"type\": \"STRING\"}]}, {\"name\": \"latencyTracking\", \"mode\": \"NULLABLE\", \"type\": \"RECORD\", \"fields\": [{\"name\": \"pageLoadSample\", \"mode\": \"NULLABLE\", \"type\": \"INTEGER\"}, {\"name\": \"pageLoadTime\", \"mode\": \"NULLABLE\", \"type\": \"INTEGER\"}, {\"name\": \"pageDownloadTime\", \"mode\": \"NULLABLE\", \"type\": \"INTEGER\"}, {\"name\": \"redirectionTime\", \"mode\": \"NULLABLE\", \"type\": \"INTEGER\"}, {\"name\": \"speedMetricsSample\", \"mode\": \"NULLABLE\", \"type\": \"INTEGER\"}, {\"name\": \"domainLookupTime\", \"mode\": \"NULLABLE\", \"type\": \"INTEGER\"}, {\"name\": \"serverConnectionTime\", \"mode\": \"NULLABLE\", \"type\": \"INTEGER\"}, {\"name\": \"serverResponseTime\", \"mode\": \"NULLABLE\", \"type\": \"INTEGER\"}, {\"name\": \"domLatencyMetricsSample\", \"mode\": \"NULLABLE\", \"type\": \"INTEGER\"}, {\"name\": \"domInteractiveTime\", \"mode\": \"NULLABLE\", \"type\": \"INTEGER\"}, {\"name\": \"domContentLoadedTime\", \"mode\": \"NULLABLE\", \"type\": \"INTEGER\"}, {\"name\": \"userTimingValue\", \"mode\": \"NULLABLE\", \"type\": \"INTEGER\"}, {\"name\": \"userTimingSample\", \"mode\": \"NULLABLE\", \"type\": \"INTEGER\"}, {\"name\": \"userTimingVariable\", \"mode\": \"NULLABLE\", \"type\": \"STRING\"}, {\"name\": \"userTimingCategory\", \"mode\": \"NULLABLE\", \"type\": \"STRING\"}, {\"name\": \"userTimingLabel\", \"mode\": \"NULLABLE\", \"type\": \"STRING\"}]}, {\"name\": \"sourcePropertyInfo\", \"mode\": \"NULLABLE\", \"type\": \"RECORD\", \"fields\": [{\"name\": \"sourcePropertyDisplayName\", \"mode\": \"NULLABLE\", \"type\": \"STRING\"}, {\"name\": \"sourcePropertyTrackingId\", \"mode\": \"NULLABLE\", \"type\": \"STRING\"}]}, {\"name\": \"contentGroup\", \"mode\": \"NULLABLE\", \"type\": \"RECORD\", \"fields\": [{\"name\": \"contentGroup1\", \"mode\": \"NULLABLE\", \"type\": \"STRING\"}, {\"name\": \"contentGroup2\", \"mode\": \"NULLABLE\", \"type\": \"STRING\"}, {\"name\": \"contentGroup3\", \"mode\": \"NULLABLE\", \"type\": \"STRING\"}, {\"name\": \"contentGroup4\", \"mode\": \"NULLABLE\", \"type\": \"STRING\"}, {\"name\": \"contentGroup5\", \"mode\": \"NULLABLE\", \"type\": \"STRING\"}, {\"name\": \"previousContentGroup1\", \"mode\": \"NULLABLE\", \"type\": \"STRING\"}, {\"name\": \"previousContentGroup2\", \"mode\": \"NULLABLE\", \"type\": \"STRING\"}, {\"name\": \"previousContentGroup3\", \"mode\": \"NULLABLE\", \"type\": \"STRING\"}, {\"name\": \"previousContentGroup4\", \"mode\": \"NULLABLE\", \"type\": \"STRING\"}, {\"name\": \"previousContentGroup5\", \"mode\": \"NULLABLE\", \"type\": \"STRING\"}, {\"name\": \"contentGroupUniqueViews1\", \"mode\": \"NULLABLE\", \"type\": \"INTEGER\"}, {\"name\": \"contentGroupUniqueViews2\", \"mode\": \"NULLABLE\", \"type\": \"INTEGER\"}, {\"name\": \"contentGroupUniqueViews3\", \"mode\": \"NULLABLE\", \"type\": \"INTEGER\"}, {\"name\": \"contentGroupUniqueViews4\", \"mode\": \"NULLABLE\", \"type\": \"INTEGER\"}, {\"name\": \"contentGroupUniqueViews5\", \"mode\": \"NULLABLE\", \"type\": \"INTEGER\"}]}, {\"name\": \"dataSource\", \"mode\": \"NULLABLE\", \"type\": \"STRING\"}, {\"name\": \"publisher_infos\", \"mode\": \"REPEATED\", \"type\": \"RECORD\", \"fields\": [{\"name\": \"dfpClicks\", \"mode\": \"NULLABLE\", \"type\": \"INTEGER\"}, {\"name\": \"dfpImpressions\", \"mode\": \"NULLABLE\", \"type\": \"INTEGER\"}, {\"name\": \"dfpMatchedQueries\", \"mode\": \"NULLABLE\", \"type\": \"INTEGER\"}, {\"name\": \"dfpMeasurableImpressions\", \"mode\": \"NULLABLE\", \"type\": \"INTEGER\"}, {\"name\": \"dfpQueries\", \"mode\": \"NULLABLE\", \"type\": \"INTEGER\"}, {\"name\": \"dfpRevenueCpm\", \"mode\": \"NULLABLE\", \"type\": \"INTEGER\"}, {\"name\": \"dfpRevenueCpc\", \"mode\": \"NULLABLE\", \"type\": \"INTEGER\"}, {\"name\": \"dfpViewableImpressions\", \"mode\": \"NULLABLE\", \"type\": \"INTEGER\"}, {\"name\": \"dfpPagesViewed\", \"mode\": \"NULLABLE\", \"type\": \"INTEGER\"}, {\"name\": \"adsenseBackfillDfpClicks\", \"mode\": \"NULLABLE\", \"type\": \"INTEGER\"}, {\"name\": \"adsenseBackfillDfpImpressions\", \"mode\": \"NULLABLE\", \"type\": \"INTEGER\"}, {\"name\": \"adsenseBackfillDfpMatchedQueries\", \"mode\": \"NULLABLE\", \"type\": \"INTEGER\"}, {\"name\": \"adsenseBackfillDfpMeasurableImpressions\", \"mode\": \"NULLABLE\", \"type\": \"INTEGER\"}, {\"name\": \"adsenseBackfillDfpQueries\", \"mode\": \"NULLABLE\", \"type\": \"INTEGER\"}, {\"name\": \"adsenseBackfillDfpRevenueCpm\", \"mode\": \"NULLABLE\", \"type\": \"INTEGER\"}, {\"name\": \"adsenseBackfillDfpRevenueCpc\", \"mode\": \"NULLABLE\", \"type\": \"INTEGER\"}, {\"name\": \"adsenseBackfillDfpViewableImpressions\", \"mode\": \"NULLABLE\", \"type\": \"INTEGER\"}, {\"name\": \"adsenseBackfillDfpPagesViewed\", \"mode\": \"NULLABLE\", \"type\": \"INTEGER\"}, {\"name\": \"adxBackfillDfpClicks\", \"mode\": \"NULLABLE\", \"type\": \"INTEGER\"}, {\"name\": \"adxBackfillDfpImpressions\", \"mode\": \"NULLABLE\", \"type\": \"INTEGER\"}, {\"name\": \"adxBackfillDfpMatchedQueries\", \"mode\": \"NULLABLE\", \"type\": \"INTEGER\"}, {\"name\": \"adxBackfillDfpMeasurableImpressions\", \"mode\": \"NULLABLE\", \"type\": \"INTEGER\"}, {\"name\": \"adxBackfillDfpQueries\", \"mode\": \"NULLABLE\", \"type\": \"INTEGER\"}, {\"name\": \"adxBackfillDfpRevenueCpm\", \"mode\": \"NULLABLE\", \"type\": \"INTEGER\"}, {\"name\": \"adxBackfillDfpRevenueCpc\", \"mode\": \"NULLABLE\", \"type\": \"INTEGER\"}, {\"name\": \"adxBackfillDfpViewableImpressions\", \"mode\": \"NULLABLE\", \"type\": \"INTEGER\"}, {\"name\": \"adxBackfillDfpPagesViewed\", \"mode\": \"NULLABLE\", \"type\": \"INTEGER\"}, {\"name\": \"adxClicks\", \"mode\": \"NULLABLE\", \"type\": \"INTEGER\"}, {\"name\": \"adxImpressions\", \"mode\": \"NULLABLE\", \"type\": \"INTEGER\"}, {\"name\": \"adxMatchedQueries\", \"mode\": \"NULLABLE\", \"type\": \"INTEGER\"}, {\"name\": \"adxMeasurableImpressions\", \"mode\": \"NULLABLE\", \"type\": \"INTEGER\"}, {\"name\": \"adxQueries\", \"mode\": \"NULLABLE\", \"type\": \"INTEGER\"}, {\"name\": \"adxRevenue\", \"mode\": \"NULLABLE\", \"type\": \"INTEGER\"}, {\"name\": \"adxViewableImpressions\", \"mode\": \"NULLABLE\", \"type\": \"INTEGER\"}, {\"name\": \"adxPagesViewed\", \"mode\": \"NULLABLE\", \"type\": \"INTEGER\"}, {\"name\": \"adsViewed\", \"mode\": \"NULLABLE\", \"type\": \"INTEGER\"}, {\"name\": \"adsUnitsViewed\", \"mode\": \"NULLABLE\", \"type\": \"INTEGER\"}, {\"name\": \"adsUnitsMatched\", \"mode\": \"NULLABLE\", \"type\": \"INTEGER\"}, {\"name\": \"viewableAdsViewed\", \"mode\": \"NULLABLE\", \"type\": \"INTEGER\"}, {\"name\": \"measurableAdsViewed\", \"mode\": \"NULLABLE\", \"type\": \"INTEGER\"}, {\"name\": \"adsPagesViewed\", \"mode\": \"NULLABLE\", \"type\": \"INTEGER\"}, {\"name\": \"adsClicked\", \"mode\": \"NULLABLE\", \"type\": \"INTEGER\"}, {\"name\": \"adsRevenue\", \"mode\": \"NULLABLE\", \"type\": \"INTEGER\"}, {\"name\": \"dfpAdGroup\", \"mode\": \"NULLABLE\", \"type\": \"STRING\"}, {\"name\": \"dfpAdUnits\", \"mode\": \"NULLABLE\", \"type\": \"STRING\"}, {\"name\": \"dfpNetworkId\", \"mode\": \"NULLABLE\", \"type\": \"STRING\"}]}]}, {\"name\": \"fullVisitorId\", \"mode\": \"NULLABLE\", \"type\": \"STRING\"}, {\"name\": \"userId\", \"mode\": \"NULLABLE\", \"type\": \"STRING\"}, {\"name\": \"clientId\", \"mode\": \"NULLABLE\", \"type\": \"STRING\"}, {\"name\": \"channelGrouping\", \"mode\": \"NULLABLE\", \"type\": \"STRING\"}, {\"name\": \"socialEngagementType\", \"mode\": \"NULLABLE\", \"type\": \"STRING\"}]);\n",
       "        }\n",
       "      );\n",
       "    </script>\n",
       "    "
      ],
      "text/plain": [
       "<IPython.core.display.HTML object>"
      ]
     },
     "execution_count": 3,
     "metadata": {},
     "output_type": "execute_result"
    }
   ],
   "source": [
    "%bq tables describe --name bigquery-public-data.google_analytics_sample.ga_sessions_20170801"
   ]
  },
  {
   "cell_type": "markdown",
   "metadata": {},
   "source": [
    "To compare to a BQML logistic regression we will set up so that our data will split into 2 classes on the label for total transactions, either there was a transaction (1) or it was NULL (0)"
   ]
  },
  {
   "cell_type": "markdown",
   "metadata": {},
   "source": [
    "Create Model as CUSTOM tf model"
   ]
  },
  {
   "cell_type": "code",
   "execution_count": 3,
   "metadata": {},
   "outputs": [],
   "source": [
    "%bq query -n train\n",
    "SELECT\n",
    "  IF(totals.transactions IS NULL, 0, 1) AS label,\n",
    "  IFNULL(device.operatingSystem, \"\") AS os,\n",
    "  device.isMobile AS is_mobile,\n",
    "  IFNULL(geoNetwork.country, \"\") AS country,\n",
    "  IFNULL(totals.pageviews, 0) AS pageviews\n",
    "FROM\n",
    "  `bigquery-public-data.google_analytics_sample.ga_sessions_*`\n",
    "WHERE\n",
    "  _TABLE_SUFFIX BETWEEN '20160801' AND '20170630'"
   ]
  },
  {
   "cell_type": "code",
   "execution_count": 4,
   "metadata": {},
   "outputs": [],
   "source": [
    "traindf = train.execute().result().to_dataframe()"
   ]
  },
  {
   "cell_type": "code",
   "execution_count": 5,
   "metadata": {},
   "outputs": [
    {
     "data": {
      "text/html": [
       "<div>\n",
       "<style scoped>\n",
       "    .dataframe tbody tr th:only-of-type {\n",
       "        vertical-align: middle;\n",
       "    }\n",
       "\n",
       "    .dataframe tbody tr th {\n",
       "        vertical-align: top;\n",
       "    }\n",
       "\n",
       "    .dataframe thead th {\n",
       "        text-align: right;\n",
       "    }\n",
       "</style>\n",
       "<table border=\"1\" class=\"dataframe\">\n",
       "  <thead>\n",
       "    <tr style=\"text-align: right;\">\n",
       "      <th></th>\n",
       "      <th>label</th>\n",
       "      <th>os</th>\n",
       "      <th>is_mobile</th>\n",
       "      <th>country</th>\n",
       "      <th>pageviews</th>\n",
       "    </tr>\n",
       "  </thead>\n",
       "  <tbody>\n",
       "    <tr>\n",
       "      <th>0</th>\n",
       "      <td>0</td>\n",
       "      <td>Android</td>\n",
       "      <td>True</td>\n",
       "      <td>Chad</td>\n",
       "      <td>1</td>\n",
       "    </tr>\n",
       "    <tr>\n",
       "      <th>1</th>\n",
       "      <td>0</td>\n",
       "      <td>Android</td>\n",
       "      <td>True</td>\n",
       "      <td>Chad</td>\n",
       "      <td>1</td>\n",
       "    </tr>\n",
       "  </tbody>\n",
       "</table>\n",
       "</div>"
      ],
      "text/plain": [
       "   label       os  is_mobile country  pageviews\n",
       "0      0  Android       True    Chad          1\n",
       "1      0  Android       True    Chad          1"
      ]
     },
     "execution_count": 5,
     "metadata": {},
     "output_type": "execute_result"
    }
   ],
   "source": [
    "traindf[:2]"
   ]
  },
  {
   "cell_type": "code",
   "execution_count": 6,
   "metadata": {},
   "outputs": [
    {
     "data": {
      "text/plain": [
       "array([0, 1])"
      ]
     },
     "execution_count": 6,
     "metadata": {},
     "output_type": "execute_result"
    }
   ],
   "source": [
    "traindf['label'].unique()"
   ]
  },
  {
   "cell_type": "code",
   "execution_count": 7,
   "metadata": {},
   "outputs": [
    {
     "name": "stdout",
     "output_type": "stream",
     "text": [
      "No purchase = 818807\n",
      "Purchase = 10478\n",
      "Training Set Length = 829285\n",
      "bool\n",
      "object\n"
     ]
    }
   ],
   "source": [
    "print(\"No purchase =\", len(traindf[traindf['label'] == 0]['os']))\n",
    "print(\"Purchase =\", len(traindf[traindf['label'] == 1]['os']))\n",
    "print(\"Training Set Length =\", len(traindf['os']))\n",
    "print(traindf['is_mobile'].dtype)\n",
    "print(traindf['country'].dtype)"
   ]
  },
  {
   "cell_type": "markdown",
   "metadata": {},
   "source": [
    "balance training set and representational testing set can help neural net accuracy?\n",
    "\n",
    "------------------"
   ]
  },
  {
   "cell_type": "code",
   "execution_count": 8,
   "metadata": {},
   "outputs": [
    {
     "data": {
      "text/html": [
       "<div>\n",
       "<style scoped>\n",
       "    .dataframe tbody tr th:only-of-type {\n",
       "        vertical-align: middle;\n",
       "    }\n",
       "\n",
       "    .dataframe tbody tr th {\n",
       "        vertical-align: top;\n",
       "    }\n",
       "\n",
       "    .dataframe thead th {\n",
       "        text-align: right;\n",
       "    }\n",
       "</style>\n",
       "<table border=\"1\" class=\"dataframe\">\n",
       "  <thead>\n",
       "    <tr style=\"text-align: right;\">\n",
       "      <th></th>\n",
       "      <th>label</th>\n",
       "      <th>os</th>\n",
       "      <th>country</th>\n",
       "      <th>pageviews</th>\n",
       "      <th>mobile</th>\n",
       "    </tr>\n",
       "  </thead>\n",
       "  <tbody>\n",
       "    <tr>\n",
       "      <th>0</th>\n",
       "      <td>0</td>\n",
       "      <td>Android</td>\n",
       "      <td>Chad</td>\n",
       "      <td>1</td>\n",
       "      <td>Yes</td>\n",
       "    </tr>\n",
       "    <tr>\n",
       "      <th>1</th>\n",
       "      <td>0</td>\n",
       "      <td>Android</td>\n",
       "      <td>Chad</td>\n",
       "      <td>1</td>\n",
       "      <td>Yes</td>\n",
       "    </tr>\n",
       "    <tr>\n",
       "      <th>2</th>\n",
       "      <td>0</td>\n",
       "      <td>Android</td>\n",
       "      <td>Chad</td>\n",
       "      <td>7</td>\n",
       "      <td>Yes</td>\n",
       "    </tr>\n",
       "    <tr>\n",
       "      <th>3</th>\n",
       "      <td>0</td>\n",
       "      <td>Android</td>\n",
       "      <td>Chad</td>\n",
       "      <td>5</td>\n",
       "      <td>Yes</td>\n",
       "    </tr>\n",
       "    <tr>\n",
       "      <th>4</th>\n",
       "      <td>0</td>\n",
       "      <td>Samsung</td>\n",
       "      <td>Chad</td>\n",
       "      <td>1</td>\n",
       "      <td>Yes</td>\n",
       "    </tr>\n",
       "  </tbody>\n",
       "</table>\n",
       "</div>"
      ],
      "text/plain": [
       "   label       os country  pageviews mobile\n",
       "0      0  Android    Chad          1    Yes\n",
       "1      0  Android    Chad          1    Yes\n",
       "2      0  Android    Chad          7    Yes\n",
       "3      0  Android    Chad          5    Yes\n",
       "4      0  Samsung    Chad          1    Yes"
      ]
     },
     "execution_count": 8,
     "metadata": {},
     "output_type": "execute_result"
    }
   ],
   "source": [
    "traindf.loc[traindf['is_mobile'] == True, 'mobile'] = \"Yes\"\n",
    "traindf.loc[traindf['is_mobile'] == False, 'mobile'] = \"No\"\n",
    "traindf=traindf.drop(columns='is_mobile')\n",
    "traindf.head()"
   ]
  },
  {
   "cell_type": "code",
   "execution_count": 9,
   "metadata": {},
   "outputs": [
    {
     "name": "stdout",
     "output_type": "stream",
     "text": [
      "object\n"
     ]
    }
   ],
   "source": [
    "#traindf['is_mobile']=traindf['is_mobile'].astype('str')\n",
    "#print(traindf['is_mobile'].dtype)\n",
    "print(traindf['mobile'].dtype)"
   ]
  },
  {
   "cell_type": "code",
   "execution_count": 10,
   "metadata": {},
   "outputs": [],
   "source": [
    "#investigate inputs\n",
    "#only when eager execution is on \n",
    "def easy_input_function(df, label_key, num_epochs, shuffle, batch_size):\n",
    "  label = df[label_key]\n",
    "  ds = tf.data.Dataset.from_tensor_slices((dict(df),label))\n",
    "\n",
    "  if shuffle:\n",
    "    ds = ds.shuffle(10000)\n",
    "\n",
    "  ds = ds.batch(batch_size).repeat(num_epochs)\n",
    "\n",
    "  return ds"
   ]
  },
  {
   "cell_type": "code",
   "execution_count": 12,
   "metadata": {},
   "outputs": [
    {
     "name": "stdout",
     "output_type": "stream",
     "text": [
      "Some feature keys: ['is_mobile', 'pageviews', 'os', 'label', 'country']\n",
      "\n",
      "A batch of OS : tf.Tensor(\n",
      "[b'Windows' b'Windows' b'Android' b'Linux' b'Linux' b'Windows'\n",
      " b'Macintosh' b'Android' b'Windows' b'iOS'], shape=(10,), dtype=string)\n",
      "\n",
      "A batch of Labels: tf.Tensor([0 0 0 0 0 0 0 0 0 0], shape=(10,), dtype=int32)\n"
     ]
    }
   ],
   "source": [
    "ds = easy_input_function(traindf, label_key='label', num_epochs=5, shuffle=True, batch_size=10)\n",
    "\n",
    "for feature_batch, label_batch in ds.take(1):\n",
    "  print('Some feature keys:', list(feature_batch.keys())[:5])\n",
    "  print()\n",
    "  print('A batch of OS :', feature_batch['os'])\n",
    "  print()\n",
    "  print('A batch of Labels:', label_batch )\n"
   ]
  },
  {
   "cell_type": "code",
   "execution_count": 14,
   "metadata": {},
   "outputs": [
    {
     "data": {
      "text/plain": [
       "<RepeatDataset shapes: ({is_mobile: (?,), pageviews: (?,), os: (?,), label: (?,), country: (?,)}, (?,)), types: ({is_mobile: tf.bool, pageviews: tf.int32, os: tf.string, label: tf.int32, country: tf.string}, tf.int32)>"
      ]
     },
     "execution_count": 14,
     "metadata": {},
     "output_type": "execute_result"
    }
   ],
   "source": [
    "ds #ds is a tensorflow dataset, here we inspect the dataset"
   ]
  },
  {
   "cell_type": "code",
   "execution_count": 10,
   "metadata": {},
   "outputs": [
    {
     "data": {
      "text/html": [
       "<div>\n",
       "<style scoped>\n",
       "    .dataframe tbody tr th:only-of-type {\n",
       "        vertical-align: middle;\n",
       "    }\n",
       "\n",
       "    .dataframe tbody tr th {\n",
       "        vertical-align: top;\n",
       "    }\n",
       "\n",
       "    .dataframe thead th {\n",
       "        text-align: right;\n",
       "    }\n",
       "</style>\n",
       "<table border=\"1\" class=\"dataframe\">\n",
       "  <thead>\n",
       "    <tr style=\"text-align: right;\">\n",
       "      <th></th>\n",
       "      <th>mobile</th>\n",
       "      <th>pageviews</th>\n",
       "      <th>os</th>\n",
       "      <th>label</th>\n",
       "      <th>country</th>\n",
       "    </tr>\n",
       "  </thead>\n",
       "  <tbody>\n",
       "    <tr>\n",
       "      <th>0</th>\n",
       "      <td>Yes</td>\n",
       "      <td>1</td>\n",
       "      <td>Android</td>\n",
       "      <td>0</td>\n",
       "      <td>Chad</td>\n",
       "    </tr>\n",
       "    <tr>\n",
       "      <th>1</th>\n",
       "      <td>Yes</td>\n",
       "      <td>1</td>\n",
       "      <td>Android</td>\n",
       "      <td>0</td>\n",
       "      <td>Chad</td>\n",
       "    </tr>\n",
       "  </tbody>\n",
       "</table>\n",
       "</div>"
      ],
      "text/plain": [
       "  mobile  pageviews       os  label country\n",
       "0    Yes          1  Android      0    Chad\n",
       "1    Yes          1  Android      0    Chad"
      ]
     },
     "execution_count": 10,
     "metadata": {},
     "output_type": "execute_result"
    }
   ],
   "source": [
    "traindf.loc[:,['mobile', 'pageviews', 'os', 'label', 'country']][:2]"
   ]
  },
  {
   "cell_type": "code",
   "execution_count": 11,
   "metadata": {},
   "outputs": [],
   "source": [
    "#x type must be\n",
    "train_input_fn = tf.estimator.inputs.pandas_input_fn(\n",
    "  x=traindf, \n",
    "  y=traindf['label'], \n",
    "  num_epochs=None, \n",
    "  shuffle=True)"
   ]
  },
  {
   "cell_type": "code",
   "execution_count": 12,
   "metadata": {},
   "outputs": [
    {
     "data": {
      "text/plain": [
       "({'country': <tf.Tensor 'random_shuffle_queue_DequeueMany:3' shape=(128,) dtype=string>,\n",
       "  'label': <tf.Tensor 'random_shuffle_queue_DequeueMany:1' shape=(128,) dtype=int64>,\n",
       "  'mobile': <tf.Tensor 'random_shuffle_queue_DequeueMany:5' shape=(128,) dtype=string>,\n",
       "  'os': <tf.Tensor 'random_shuffle_queue_DequeueMany:2' shape=(128,) dtype=string>,\n",
       "  'pageviews': <tf.Tensor 'random_shuffle_queue_DequeueMany:4' shape=(128,) dtype=int64>},\n",
       " <tf.Tensor 'random_shuffle_queue_DequeueMany:6' shape=(128,) dtype=int64>)"
      ]
     },
     "execution_count": 12,
     "metadata": {},
     "output_type": "execute_result"
    }
   ],
   "source": [
    "train_input_fn() #here we can see that mobile is string"
   ]
  },
  {
   "cell_type": "code",
   "execution_count": 13,
   "metadata": {},
   "outputs": [
    {
     "name": "stdout",
     "output_type": "stream",
     "text": [
      "2\n",
      "221 20\n"
     ]
    }
   ],
   "source": [
    "#traindf['country'].unique().tolist() #list of all countries\n",
    "#traindf['os'].unique().tolist()\n",
    "print(len(traindf['mobile'].unique()))\n",
    "print(len(traindf['country'].unique()),len(traindf['os'].unique()))"
   ]
  },
  {
   "cell_type": "code",
   "execution_count": 14,
   "metadata": {},
   "outputs": [],
   "source": [
    "mobile = tf.feature_column.categorical_column_with_vocabulary_list(key=\"mobile\",vocabulary_list=traindf['mobile'].unique().tolist())\n",
    "country = tf.feature_column.categorical_column_with_vocabulary_list(key=\"country\", vocabulary_list=traindf['country'].unique().tolist())\n",
    "os = tf.feature_column.categorical_column_with_vocabulary_list(key=\"os\", vocabulary_list=traindf['os'].unique().tolist())\n",
    "\n",
    "em_mobile = tf.feature_column.embedding_column(mobile, dimension=2) #embedding required for custom estimators\n",
    "em_country = tf.feature_column.embedding_column(country, dimension=221)\n",
    "em_os = tf.feature_column.embedding_column(os, dimension=20)\n",
    "pageviews = tf.feature_column.numeric_column(key=\"pageviews\")#\n",
    "\n",
    "feature_columns=[em_mobile,em_country,em_os,pageviews]"
   ]
  },
  {
   "cell_type": "code",
   "execution_count": 15,
   "metadata": {},
   "outputs": [],
   "source": [
    "#print(feature_columns)"
   ]
  },
  {
   "cell_type": "code",
   "execution_count": 16,
   "metadata": {},
   "outputs": [],
   "source": [
    "#--------------------\n",
    "# inputs are input tensors\n",
    "#def neural_net(features):\n",
    "#  x=traindf.loc[:,['is_mobile', 'pageviews', 'os', 'label', 'country']] #input - features only\n",
    "#  x=features['is_mobile', 'pageviews', 'os', 'label', 'country']\n",
    "#  x=feature_columns\n",
    "#  x=features({\"x\": features}) #this is a tensor\n",
    "#  h1 = tf.layers.dense(inputs=x, units=300, name='h1') #hidden layer 1, units are hidden units\n",
    "#  h2 = tf.layers.dense(inputs=h1, units=100, name='h2') #hidden layer 2\n",
    "#  h3 = tf.layers.dense(inputs=h2, units=50, name='h3') #hidden layer 3\n",
    "#  logits = tf.layers.dense(inputs=h3, units=10, name='y') #units are number of input classes, \n",
    "#  #logits returned are probability of being a particular class\n",
    "#  return logits"
   ]
  },
  {
   "cell_type": "code",
   "execution_count": 74,
   "metadata": {},
   "outputs": [],
   "source": [
    "def model_fn(features, labels, mode, params):\n",
    "##  logits = neural_net(features) #pass features to get logits\n",
    "  net = tf.feature_column.input_layer(features, params['feature_columns'])\n",
    "  for units in params['hidden_units']:\n",
    "    net = tf.layers.dense(net, units=units, activation=tf.nn.relu)\n",
    "\n",
    "# Compute logits (1 per class).\n",
    "  logits = tf.layers.dense(net, params['n_classes'], activation=None)\n",
    "  targets = tf.reshape(tf.one_hot(labels, params['n_classes']),logits.get_shape())\n",
    "  ratio = 10478.0/(818807.0+10478.0) #0.01263 = true (1)/total, inverse total/true = 79.145, 78.14 false/true\n",
    "  \n",
    "  pred_probas = tf.nn.softmax(logits) #prediction probability\n",
    "  pred_classes = tf.argmax(logits, axis=1) #predition classes\n",
    "#Predict Section  \n",
    "  if mode == tf.estimator.ModeKeys.PREDICT:\n",
    "    predictions = {\n",
    "      'class_ids': pred_classes[:, tf.newaxis],\n",
    "      'probabilities': tf.nn.softmax(logits),\n",
    "      'logits': logits,\n",
    "    }\n",
    "    spec = tf.estimator.EstimatorSpec(mode, predictions=predictions)\n",
    "#Train and evaluate section\n",
    "  else:\n",
    "    classes_weights = tf.constant([0.1, (1.0 - 0.1 )]) # 0.01 bad, 0.1 is ok, 0.2 bad\n",
    "#####    cross_entropy = tf.nn.sparse_softmax_cross_entropy_with_logits(labels=labels,logits=logits)\n",
    "\n",
    "  #The argument pos_weight is used as a multiplier for the positive targets.\n",
    "#So, assuming you have 5 positive examples in your dataset and 7 negative, \n",
    "#if you set the pos_weight=2, then your loss would be as if you had \n",
    "#10 positive examples and 7 negative.\n",
    "\n",
    "#weighted loss up or down weight cost of positive error relative to negative error, \n",
    "#pos_weights > 1 decreases false neg, pos weights < 1 decreases false pos\n",
    "\n",
    "####    loss_op = tf.losses.sparse_softmax_cross_entropy(logits=logits,labels=labels,weights=10)\n",
    "    cross_entropy = tf.nn.weighted_cross_entropy_with_logits(logits=logits, targets=targets, pos_weight=classes_weights)\n",
    "    loss_op = tf.reduce_mean(cross_entropy)\n",
    "  \n",
    "    optimizer = tf.train.AdamOptimizer(learning_rate=params[\"learning_rate\"]) #custom AdamOptimizer  \n",
    "    #The AdamOptimizer class creates additional variables, called \"slots\", to hold values for the \"m\" and \"v\" accumulators\n",
    "    train_op = optimizer.minimize(loss=loss_op, global_step=tf.train.get_global_step())\n",
    "    metrics ={\"accuracy\": tf.metrics.accuracy(labels, pred_classes),\"precision\": tf.metrics.precision(labels, pred_classes),\"recall\": tf.metrics.recall(labels, pred_classes),\"auc\": tf.metrics.auc(labels, pred_classes)} #evaluation metrics\n",
    "    spec = tf.estimator.EstimatorSpec( ### custom estimator\n",
    "      mode=mode,\n",
    "      predictions={\n",
    "        'class_ids': pred_classes[:, tf.newaxis],\n",
    "        'probabilities': tf.nn.softmax(logits),\n",
    "        'logits': logits,},\n",
    "      loss=loss_op,\n",
    "      train_op=train_op,\n",
    "      eval_metric_ops=metrics) #in train and evaluate you return loss, and metrics in addtion to logits\n",
    "  return spec"
   ]
  },
  {
   "cell_type": "code",
   "execution_count": 75,
   "metadata": {},
   "outputs": [
    {
     "name": "stdout",
     "output_type": "stream",
     "text": [
      "INFO:tensorflow:Using default config.\n",
      "INFO:tensorflow:Using config: {'_evaluation_master': '', '_cluster_spec': <tensorflow.python.training.server_lib.ClusterSpec object at 0x7fc955976f28>, '_session_config': None, '_save_checkpoints_secs': 600, '_tf_random_seed': None, '_model_dir': '../saved_models/test', '_save_checkpoints_steps': None, '_service': None, '_keep_checkpoint_every_n_hours': 10000, '_num_ps_replicas': 0, '_train_distribute': None, '_keep_checkpoint_max': 5, '_is_chief': True, '_master': '', '_num_worker_replicas': 1, '_global_id_in_cluster': 0, '_log_step_count_steps': 100, '_task_id': 0, '_task_type': 'worker', '_save_summary_steps': 100}\n"
     ]
    }
   ],
   "source": [
    "#my_feature_columns = [\"is_mobile\", \"pageviews\", \"os\", \"label\", \"country\"]\n",
    "#'hidden units': [10, 10] = two hidden layers of 10 nodes each\n",
    "#params = {\"learning_rate\":1e-4} #model params\n",
    "params={'feature_columns': feature_columns,'hidden_units': [40, 40, 40, 10, 10, 20, 20, 20],'n_classes': 2,'learning_rate':1e-3, }  # # 4 hidden layers of 10 nodes each. The model must choose between 3 classes.\n",
    "#estimator\n",
    "model = tf.estimator.Estimator(model_fn, model_dir='../saved_models/test', params=params) #store the model"
   ]
  },
  {
   "cell_type": "code",
   "execution_count": 76,
   "metadata": {},
   "outputs": [
    {
     "name": "stdout",
     "output_type": "stream",
     "text": [
      "INFO:tensorflow:Calling model_fn.\n",
      "INFO:tensorflow:Done calling model_fn.\n",
      "INFO:tensorflow:Create CheckpointSaverHook.\n",
      "INFO:tensorflow:Graph was finalized.\n",
      "INFO:tensorflow:Running local_init_op.\n",
      "INFO:tensorflow:Done running local_init_op.\n",
      "INFO:tensorflow:Saving checkpoints for 1 into ../saved_models/test/model.ckpt.\n",
      "INFO:tensorflow:step = 1, loss = 0.38038832\n",
      "INFO:tensorflow:global_step/sec: 105.868\n",
      "INFO:tensorflow:step = 101, loss = 0.016573168 (0.946 sec)\n",
      "INFO:tensorflow:global_step/sec: 167.608\n",
      "INFO:tensorflow:step = 201, loss = 1.4145176e-05 (0.597 sec)\n",
      "INFO:tensorflow:global_step/sec: 168.765\n",
      "INFO:tensorflow:step = 301, loss = 1.408697e-05 (0.592 sec)\n",
      "INFO:tensorflow:global_step/sec: 169.483\n",
      "INFO:tensorflow:step = 401, loss = 3.7615464e-05 (0.590 sec)\n",
      "INFO:tensorflow:global_step/sec: 171.263\n",
      "INFO:tensorflow:step = 501, loss = 1.0991283e-05 (0.584 sec)\n",
      "INFO:tensorflow:global_step/sec: 171.28\n",
      "INFO:tensorflow:step = 601, loss = 0.0007501724 (0.585 sec)\n",
      "INFO:tensorflow:global_step/sec: 175.119\n",
      "INFO:tensorflow:step = 701, loss = 0.00013291111 (0.571 sec)\n",
      "INFO:tensorflow:global_step/sec: 170.771\n",
      "INFO:tensorflow:step = 801, loss = 0.000118976845 (0.586 sec)\n",
      "INFO:tensorflow:global_step/sec: 167.591\n",
      "INFO:tensorflow:step = 901, loss = 8.771978e-05 (0.596 sec)\n",
      "INFO:tensorflow:global_step/sec: 166.674\n",
      "INFO:tensorflow:step = 1001, loss = 0.00047988957 (0.600 sec)\n",
      "INFO:tensorflow:global_step/sec: 168.452\n",
      "INFO:tensorflow:step = 1101, loss = 0.0043497733 (0.593 sec)\n",
      "INFO:tensorflow:global_step/sec: 166.657\n",
      "INFO:tensorflow:step = 1201, loss = 0.01143796 (0.600 sec)\n",
      "INFO:tensorflow:global_step/sec: 169.349\n",
      "INFO:tensorflow:step = 1301, loss = 0.005453678 (0.590 sec)\n",
      "INFO:tensorflow:global_step/sec: 168.839\n",
      "INFO:tensorflow:step = 1401, loss = 0.0017525204 (0.593 sec)\n",
      "INFO:tensorflow:global_step/sec: 169.663\n",
      "INFO:tensorflow:step = 1501, loss = 0.0061901943 (0.589 sec)\n",
      "INFO:tensorflow:global_step/sec: 171.284\n",
      "INFO:tensorflow:step = 1601, loss = 0.05313195 (0.584 sec)\n",
      "INFO:tensorflow:global_step/sec: 178.974\n",
      "INFO:tensorflow:step = 1701, loss = 0.03445112 (0.559 sec)\n",
      "INFO:tensorflow:global_step/sec: 171.731\n",
      "INFO:tensorflow:step = 1801, loss = 0.038191438 (0.583 sec)\n",
      "INFO:tensorflow:global_step/sec: 170.291\n",
      "INFO:tensorflow:step = 1901, loss = 0.008468807 (0.588 sec)\n",
      "INFO:tensorflow:global_step/sec: 173.096\n",
      "INFO:tensorflow:step = 2001, loss = 0.011904182 (0.578 sec)\n",
      "INFO:tensorflow:global_step/sec: 166.675\n",
      "INFO:tensorflow:step = 2101, loss = 0.030473607 (0.600 sec)\n",
      "INFO:tensorflow:global_step/sec: 172.47\n",
      "INFO:tensorflow:step = 2201, loss = 0.005977456 (0.580 sec)\n",
      "INFO:tensorflow:global_step/sec: 164.95\n",
      "INFO:tensorflow:step = 2301, loss = 0.036122404 (0.606 sec)\n",
      "INFO:tensorflow:global_step/sec: 167.437\n",
      "INFO:tensorflow:step = 2401, loss = 0.06560572 (0.597 sec)\n",
      "INFO:tensorflow:global_step/sec: 169.539\n",
      "INFO:tensorflow:step = 2501, loss = 0.06024611 (0.590 sec)\n",
      "INFO:tensorflow:global_step/sec: 165.13\n",
      "INFO:tensorflow:step = 2601, loss = 0.012530096 (0.605 sec)\n",
      "INFO:tensorflow:global_step/sec: 166.33\n",
      "INFO:tensorflow:step = 2701, loss = 0.016336536 (0.601 sec)\n",
      "INFO:tensorflow:global_step/sec: 166.743\n",
      "INFO:tensorflow:step = 2801, loss = 0.04910624 (0.600 sec)\n",
      "INFO:tensorflow:global_step/sec: 168.2\n",
      "INFO:tensorflow:step = 2901, loss = 0.07749656 (0.594 sec)\n",
      "INFO:tensorflow:global_step/sec: 168.743\n",
      "INFO:tensorflow:step = 3001, loss = 0.036590144 (0.593 sec)\n",
      "INFO:tensorflow:global_step/sec: 166.09\n",
      "INFO:tensorflow:step = 3101, loss = 0.06927268 (0.602 sec)\n",
      "INFO:tensorflow:global_step/sec: 171.497\n",
      "INFO:tensorflow:step = 3201, loss = 0.0730351 (0.583 sec)\n",
      "INFO:tensorflow:global_step/sec: 173.553\n",
      "INFO:tensorflow:step = 3301, loss = 0.09277187 (0.576 sec)\n",
      "INFO:tensorflow:global_step/sec: 173.66\n",
      "INFO:tensorflow:step = 3401, loss = 0.053289786 (0.576 sec)\n",
      "INFO:tensorflow:global_step/sec: 171.171\n",
      "INFO:tensorflow:step = 3501, loss = 0.080054775 (0.584 sec)\n",
      "INFO:tensorflow:global_step/sec: 173.983\n",
      "INFO:tensorflow:step = 3601, loss = 0.02502221 (0.574 sec)\n",
      "INFO:tensorflow:global_step/sec: 171.471\n",
      "INFO:tensorflow:step = 3701, loss = 0.073215395 (0.584 sec)\n",
      "INFO:tensorflow:global_step/sec: 170.865\n",
      "INFO:tensorflow:step = 3801, loss = 0.06733689 (0.585 sec)\n",
      "INFO:tensorflow:global_step/sec: 168.794\n",
      "INFO:tensorflow:step = 3901, loss = 0.0002860024 (0.593 sec)\n",
      "INFO:tensorflow:global_step/sec: 174.118\n",
      "INFO:tensorflow:step = 4001, loss = 1.8183295e-08 (0.574 sec)\n",
      "INFO:tensorflow:global_step/sec: 172.518\n",
      "INFO:tensorflow:step = 4101, loss = 0.00030736893 (0.580 sec)\n",
      "INFO:tensorflow:global_step/sec: 170.858\n",
      "INFO:tensorflow:step = 4201, loss = 0.00263614 (0.585 sec)\n",
      "INFO:tensorflow:global_step/sec: 171.903\n",
      "INFO:tensorflow:step = 4301, loss = 0.0005416875 (0.583 sec)\n",
      "INFO:tensorflow:global_step/sec: 170.88\n",
      "INFO:tensorflow:step = 4401, loss = 2.601818e-10 (0.585 sec)\n",
      "INFO:tensorflow:global_step/sec: 168.982\n",
      "INFO:tensorflow:step = 4501, loss = 1.8814644e-06 (0.592 sec)\n",
      "INFO:tensorflow:global_step/sec: 175.414\n",
      "INFO:tensorflow:step = 4601, loss = 0.00040530073 (0.570 sec)\n",
      "INFO:tensorflow:global_step/sec: 173.065\n",
      "INFO:tensorflow:step = 4701, loss = 2.5234029e-05 (0.578 sec)\n",
      "INFO:tensorflow:global_step/sec: 171.82\n",
      "INFO:tensorflow:step = 4801, loss = 0.017441282 (0.582 sec)\n",
      "INFO:tensorflow:global_step/sec: 169.373\n",
      "INFO:tensorflow:step = 4901, loss = 0.0013116302 (0.590 sec)\n",
      "INFO:tensorflow:global_step/sec: 170.66\n",
      "INFO:tensorflow:step = 5001, loss = 3.6880251e-06 (0.586 sec)\n",
      "INFO:tensorflow:global_step/sec: 176.66\n",
      "INFO:tensorflow:step = 5101, loss = 0.0007466803 (0.566 sec)\n",
      "INFO:tensorflow:global_step/sec: 173.666\n",
      "INFO:tensorflow:step = 5201, loss = 0.015207643 (0.576 sec)\n",
      "INFO:tensorflow:global_step/sec: 171.913\n",
      "INFO:tensorflow:step = 5301, loss = 0.02968213 (0.582 sec)\n",
      "INFO:tensorflow:global_step/sec: 170.4\n",
      "INFO:tensorflow:step = 5401, loss = 0.0007487848 (0.587 sec)\n",
      "INFO:tensorflow:global_step/sec: 168.145\n",
      "INFO:tensorflow:step = 5501, loss = 0.0006728772 (0.595 sec)\n",
      "INFO:tensorflow:global_step/sec: 165.047\n",
      "INFO:tensorflow:step = 5601, loss = 0.025646603 (0.606 sec)\n",
      "INFO:tensorflow:global_step/sec: 170.694\n",
      "INFO:tensorflow:step = 5701, loss = 0.0019855688 (0.586 sec)\n",
      "INFO:tensorflow:global_step/sec: 168.285\n",
      "INFO:tensorflow:step = 5801, loss = 1.7719376e-05 (0.595 sec)\n",
      "INFO:tensorflow:global_step/sec: 165.44\n",
      "INFO:tensorflow:step = 5901, loss = 0.00058559433 (0.604 sec)\n",
      "INFO:tensorflow:global_step/sec: 169.606\n",
      "INFO:tensorflow:step = 6001, loss = 8.572148e-05 (0.590 sec)\n",
      "INFO:tensorflow:global_step/sec: 167.333\n",
      "INFO:tensorflow:step = 6101, loss = 0.011838973 (0.598 sec)\n",
      "INFO:tensorflow:global_step/sec: 168.138\n",
      "INFO:tensorflow:step = 6201, loss = 0.000108446766 (0.595 sec)\n",
      "INFO:tensorflow:global_step/sec: 169.709\n",
      "INFO:tensorflow:step = 6301, loss = 0.00048481565 (0.589 sec)\n",
      "INFO:tensorflow:global_step/sec: 167.526\n",
      "INFO:tensorflow:step = 6401, loss = 0.0005062835 (0.597 sec)\n",
      "INFO:tensorflow:global_step/sec: 169.879\n",
      "INFO:tensorflow:step = 6501, loss = 8.709144e-05 (0.589 sec)\n",
      "INFO:tensorflow:global_step/sec: 165.509\n",
      "INFO:tensorflow:step = 6601, loss = 0.00070496695 (0.604 sec)\n",
      "INFO:tensorflow:global_step/sec: 167.631\n",
      "INFO:tensorflow:step = 6701, loss = 7.729977e-09 (0.597 sec)\n",
      "INFO:tensorflow:global_step/sec: 174.444\n",
      "INFO:tensorflow:step = 6801, loss = 0.000671727 (0.573 sec)\n",
      "INFO:tensorflow:global_step/sec: 167.782\n",
      "INFO:tensorflow:step = 6901, loss = 0.00023342998 (0.596 sec)\n",
      "INFO:tensorflow:global_step/sec: 173.419\n",
      "INFO:tensorflow:step = 7001, loss = 6.812492e-07 (0.576 sec)\n",
      "INFO:tensorflow:global_step/sec: 167.419\n",
      "INFO:tensorflow:step = 7101, loss = 0.0006983448 (0.598 sec)\n",
      "INFO:tensorflow:global_step/sec: 168.713\n",
      "INFO:tensorflow:step = 7201, loss = 0.00035499939 (0.592 sec)\n",
      "INFO:tensorflow:global_step/sec: 169.768\n",
      "INFO:tensorflow:step = 7301, loss = 0.0005450061 (0.589 sec)\n",
      "INFO:tensorflow:global_step/sec: 164.361\n",
      "INFO:tensorflow:step = 7401, loss = 0.0032263892 (0.609 sec)\n",
      "INFO:tensorflow:global_step/sec: 171.673\n",
      "INFO:tensorflow:step = 7501, loss = 1.972396e-05 (0.582 sec)\n",
      "INFO:tensorflow:global_step/sec: 168.604\n",
      "INFO:tensorflow:step = 7601, loss = 0.0012729974 (0.593 sec)\n",
      "INFO:tensorflow:global_step/sec: 165.072\n",
      "INFO:tensorflow:step = 7701, loss = 0.0028048684 (0.606 sec)\n",
      "INFO:tensorflow:global_step/sec: 168.812\n"
     ]
    },
    {
     "name": "stdout",
     "output_type": "stream",
     "text": [
      "INFO:tensorflow:step = 7801, loss = 0.0045247786 (0.592 sec)\n",
      "INFO:tensorflow:global_step/sec: 172.532\n",
      "INFO:tensorflow:step = 7901, loss = 0.014441513 (0.579 sec)\n",
      "INFO:tensorflow:global_step/sec: 167.631\n",
      "INFO:tensorflow:step = 8001, loss = 0.0033725048 (0.597 sec)\n",
      "INFO:tensorflow:global_step/sec: 165.058\n",
      "INFO:tensorflow:step = 8101, loss = 0.020260558 (0.606 sec)\n",
      "INFO:tensorflow:global_step/sec: 168.415\n",
      "INFO:tensorflow:step = 8201, loss = 0.040351156 (0.594 sec)\n",
      "INFO:tensorflow:global_step/sec: 172.588\n",
      "INFO:tensorflow:step = 8301, loss = 0.036842957 (0.580 sec)\n",
      "INFO:tensorflow:global_step/sec: 171.362\n",
      "INFO:tensorflow:step = 8401, loss = 0.00089004077 (0.583 sec)\n",
      "INFO:tensorflow:global_step/sec: 169.672\n",
      "INFO:tensorflow:step = 8501, loss = 0.009204607 (0.590 sec)\n",
      "INFO:tensorflow:global_step/sec: 168.708\n",
      "INFO:tensorflow:step = 8601, loss = 0.010221897 (0.593 sec)\n",
      "INFO:tensorflow:global_step/sec: 174.333\n",
      "INFO:tensorflow:step = 8701, loss = 0.04359413 (0.574 sec)\n",
      "INFO:tensorflow:global_step/sec: 176.015\n",
      "INFO:tensorflow:step = 8801, loss = 0.022082515 (0.568 sec)\n",
      "INFO:tensorflow:global_step/sec: 176.148\n",
      "INFO:tensorflow:step = 8901, loss = 0.011013035 (0.568 sec)\n",
      "INFO:tensorflow:global_step/sec: 174.17\n",
      "INFO:tensorflow:step = 9001, loss = 0.009062415 (0.574 sec)\n",
      "INFO:tensorflow:global_step/sec: 167.761\n",
      "INFO:tensorflow:step = 9101, loss = 0.023354933 (0.596 sec)\n",
      "INFO:tensorflow:global_step/sec: 170.07\n",
      "INFO:tensorflow:step = 9201, loss = 0.03416408 (0.588 sec)\n",
      "INFO:tensorflow:global_step/sec: 174.26\n",
      "INFO:tensorflow:step = 9301, loss = 0.0325235 (0.574 sec)\n",
      "INFO:tensorflow:global_step/sec: 174.416\n",
      "INFO:tensorflow:step = 9401, loss = 0.033231817 (0.574 sec)\n",
      "INFO:tensorflow:global_step/sec: 173.79\n",
      "INFO:tensorflow:step = 9501, loss = 0.108494654 (0.575 sec)\n",
      "INFO:tensorflow:global_step/sec: 167.331\n",
      "INFO:tensorflow:step = 9601, loss = 0.09009153 (0.598 sec)\n",
      "INFO:tensorflow:global_step/sec: 168.004\n",
      "INFO:tensorflow:step = 9701, loss = 0.037026647 (0.595 sec)\n",
      "INFO:tensorflow:global_step/sec: 166.917\n",
      "INFO:tensorflow:step = 9801, loss = 0.052189656 (0.599 sec)\n",
      "INFO:tensorflow:global_step/sec: 166.455\n",
      "INFO:tensorflow:step = 9901, loss = 0.07497328 (0.601 sec)\n",
      "INFO:tensorflow:Saving checkpoints for 10000 into ../saved_models/test/model.ckpt.\n",
      "INFO:tensorflow:Loss for final step: 0.14393112.\n"
     ]
    },
    {
     "data": {
      "text/plain": [
       "<tensorflow.python.estimator.estimator.Estimator at 0x7fc956301c18>"
      ]
     },
     "execution_count": 76,
     "metadata": {},
     "output_type": "execute_result"
    }
   ],
   "source": [
    "model.train(input_fn=train_input_fn, steps=10000) #steps is iterations to train model on input data"
   ]
  },
  {
   "cell_type": "markdown",
   "metadata": {},
   "source": [
    "Just like in BQML after training we have some loss for each step, our final loss rate here is 0.08 but in BQML it went down to 0.04"
   ]
  },
  {
   "cell_type": "markdown",
   "metadata": {},
   "source": [
    "Evaluate"
   ]
  },
  {
   "cell_type": "code",
   "execution_count": 20,
   "metadata": {},
   "outputs": [],
   "source": [
    "%bq query -n evaluate\n",
    "SELECT\n",
    "  IF(totals.transactions IS NULL, 0, 1) AS label,\n",
    "  IFNULL(device.operatingSystem, \"\") AS os,\n",
    "  device.isMobile AS is_mobile,\n",
    "  IFNULL(geoNetwork.country, \"\") AS country,\n",
    "  IFNULL(totals.pageviews, 0) AS pageviews\n",
    "FROM\n",
    "  `bigquery-public-data.google_analytics_sample.ga_sessions_*`\n",
    "WHERE\n",
    "  _TABLE_SUFFIX BETWEEN '20170701' AND '20170801'"
   ]
  },
  {
   "cell_type": "code",
   "execution_count": 21,
   "metadata": {},
   "outputs": [],
   "source": [
    "evaldf=evaluate.execute().result().to_dataframe()"
   ]
  },
  {
   "cell_type": "code",
   "execution_count": 22,
   "metadata": {},
   "outputs": [
    {
     "data": {
      "text/html": [
       "<div>\n",
       "<style scoped>\n",
       "    .dataframe tbody tr th:only-of-type {\n",
       "        vertical-align: middle;\n",
       "    }\n",
       "\n",
       "    .dataframe tbody tr th {\n",
       "        vertical-align: top;\n",
       "    }\n",
       "\n",
       "    .dataframe thead th {\n",
       "        text-align: right;\n",
       "    }\n",
       "</style>\n",
       "<table border=\"1\" class=\"dataframe\">\n",
       "  <thead>\n",
       "    <tr style=\"text-align: right;\">\n",
       "      <th></th>\n",
       "      <th>label</th>\n",
       "      <th>os</th>\n",
       "      <th>is_mobile</th>\n",
       "      <th>country</th>\n",
       "      <th>pageviews</th>\n",
       "    </tr>\n",
       "  </thead>\n",
       "  <tbody>\n",
       "    <tr>\n",
       "      <th>0</th>\n",
       "      <td>0</td>\n",
       "      <td>Android</td>\n",
       "      <td>True</td>\n",
       "      <td>Fiji</td>\n",
       "      <td>1</td>\n",
       "    </tr>\n",
       "    <tr>\n",
       "      <th>1</th>\n",
       "      <td>0</td>\n",
       "      <td>iOS</td>\n",
       "      <td>True</td>\n",
       "      <td>Guam</td>\n",
       "      <td>1</td>\n",
       "    </tr>\n",
       "  </tbody>\n",
       "</table>\n",
       "</div>"
      ],
      "text/plain": [
       "   label       os  is_mobile country  pageviews\n",
       "0      0  Android       True    Fiji          1\n",
       "1      0      iOS       True    Guam          1"
      ]
     },
     "execution_count": 22,
     "metadata": {},
     "output_type": "execute_result"
    }
   ],
   "source": [
    "evaldf[:2]"
   ]
  },
  {
   "cell_type": "code",
   "execution_count": 23,
   "metadata": {},
   "outputs": [
    {
     "data": {
      "text/plain": [
       "array([0, 1])"
      ]
     },
     "execution_count": 23,
     "metadata": {},
     "output_type": "execute_result"
    }
   ],
   "source": [
    "evaldf['label'].unique()"
   ]
  },
  {
   "cell_type": "code",
   "execution_count": 24,
   "metadata": {},
   "outputs": [
    {
     "name": "stdout",
     "output_type": "stream",
     "text": [
      "No purchase = 73294\n",
      "Purchase = 1074\n",
      "Evaluation Set Length = 74368\n"
     ]
    }
   ],
   "source": [
    "print(\"No purchase =\", len(evaldf[evaldf['label'] == 0]['os']))\n",
    "print(\"Purchase =\", len(evaldf[evaldf['label'] == 1]['os']))\n",
    "print(\"Evaluation Set Length =\", len(evaldf['os']))"
   ]
  },
  {
   "cell_type": "code",
   "execution_count": 25,
   "metadata": {},
   "outputs": [
    {
     "data": {
      "text/html": [
       "<div>\n",
       "<style scoped>\n",
       "    .dataframe tbody tr th:only-of-type {\n",
       "        vertical-align: middle;\n",
       "    }\n",
       "\n",
       "    .dataframe tbody tr th {\n",
       "        vertical-align: top;\n",
       "    }\n",
       "\n",
       "    .dataframe thead th {\n",
       "        text-align: right;\n",
       "    }\n",
       "</style>\n",
       "<table border=\"1\" class=\"dataframe\">\n",
       "  <thead>\n",
       "    <tr style=\"text-align: right;\">\n",
       "      <th></th>\n",
       "      <th>label</th>\n",
       "      <th>os</th>\n",
       "      <th>country</th>\n",
       "      <th>pageviews</th>\n",
       "      <th>mobile</th>\n",
       "    </tr>\n",
       "  </thead>\n",
       "  <tbody>\n",
       "    <tr>\n",
       "      <th>0</th>\n",
       "      <td>0</td>\n",
       "      <td>Android</td>\n",
       "      <td>Fiji</td>\n",
       "      <td>1</td>\n",
       "      <td>Yes</td>\n",
       "    </tr>\n",
       "    <tr>\n",
       "      <th>1</th>\n",
       "      <td>0</td>\n",
       "      <td>iOS</td>\n",
       "      <td>Guam</td>\n",
       "      <td>1</td>\n",
       "      <td>Yes</td>\n",
       "    </tr>\n",
       "    <tr>\n",
       "      <th>2</th>\n",
       "      <td>0</td>\n",
       "      <td>iOS</td>\n",
       "      <td>Guam</td>\n",
       "      <td>2</td>\n",
       "      <td>Yes</td>\n",
       "    </tr>\n",
       "    <tr>\n",
       "      <th>3</th>\n",
       "      <td>0</td>\n",
       "      <td>Android</td>\n",
       "      <td>Guam</td>\n",
       "      <td>8</td>\n",
       "      <td>Yes</td>\n",
       "    </tr>\n",
       "    <tr>\n",
       "      <th>4</th>\n",
       "      <td>0</td>\n",
       "      <td>Windows</td>\n",
       "      <td>Guam</td>\n",
       "      <td>3</td>\n",
       "      <td>No</td>\n",
       "    </tr>\n",
       "  </tbody>\n",
       "</table>\n",
       "</div>"
      ],
      "text/plain": [
       "   label       os country  pageviews mobile\n",
       "0      0  Android    Fiji          1    Yes\n",
       "1      0      iOS    Guam          1    Yes\n",
       "2      0      iOS    Guam          2    Yes\n",
       "3      0  Android    Guam          8    Yes\n",
       "4      0  Windows    Guam          3     No"
      ]
     },
     "execution_count": 25,
     "metadata": {},
     "output_type": "execute_result"
    }
   ],
   "source": [
    "evaldf.loc[evaldf['is_mobile'] == True, 'mobile'] = \"Yes\"\n",
    "evaldf.loc[evaldf['is_mobile'] == False, 'mobile'] = \"No\"\n",
    "evaldf=evaldf.drop(columns='is_mobile')\n",
    "evaldf.head()"
   ]
  },
  {
   "cell_type": "code",
   "execution_count": 26,
   "metadata": {},
   "outputs": [],
   "source": [
    "eval_input_fn = tf.estimator.inputs.pandas_input_fn(\n",
    "  x=evaldf, \n",
    "  y=evaldf['label'], \n",
    "  num_epochs=None, \n",
    "  shuffle=True)"
   ]
  },
  {
   "cell_type": "code",
   "execution_count": 27,
   "metadata": {},
   "outputs": [
    {
     "data": {
      "text/plain": [
       "({'country': <tf.Tensor 'random_shuffle_queue_DequeueMany_1:3' shape=(128,) dtype=string>,\n",
       "  'label': <tf.Tensor 'random_shuffle_queue_DequeueMany_1:1' shape=(128,) dtype=int64>,\n",
       "  'mobile': <tf.Tensor 'random_shuffle_queue_DequeueMany_1:5' shape=(128,) dtype=string>,\n",
       "  'os': <tf.Tensor 'random_shuffle_queue_DequeueMany_1:2' shape=(128,) dtype=string>,\n",
       "  'pageviews': <tf.Tensor 'random_shuffle_queue_DequeueMany_1:4' shape=(128,) dtype=int64>},\n",
       " <tf.Tensor 'random_shuffle_queue_DequeueMany_1:6' shape=(128,) dtype=int64>)"
      ]
     },
     "execution_count": 27,
     "metadata": {},
     "output_type": "execute_result"
    }
   ],
   "source": [
    "eval_input_fn()"
   ]
  },
  {
   "cell_type": "code",
   "execution_count": 28,
   "metadata": {},
   "outputs": [],
   "source": [
    "#feature_columns=[em_mobile,em_country,em_os,pageviews]"
   ]
  },
  {
   "cell_type": "code",
   "execution_count": 77,
   "metadata": {},
   "outputs": [
    {
     "name": "stdout",
     "output_type": "stream",
     "text": [
      "INFO:tensorflow:Calling model_fn.\n",
      "INFO:tensorflow:Done calling model_fn.\n",
      "INFO:tensorflow:Starting evaluation at 2018-11-18-05:52:31\n",
      "INFO:tensorflow:Graph was finalized.\n",
      "INFO:tensorflow:Restoring parameters from ../saved_models/test/model.ckpt-10000\n",
      "INFO:tensorflow:Running local_init_op.\n",
      "INFO:tensorflow:Done running local_init_op.\n",
      "INFO:tensorflow:Evaluation [1000/10000]\n",
      "INFO:tensorflow:Evaluation [2000/10000]\n",
      "INFO:tensorflow:Evaluation [3000/10000]\n",
      "INFO:tensorflow:Evaluation [4000/10000]\n",
      "INFO:tensorflow:Evaluation [5000/10000]\n",
      "INFO:tensorflow:Evaluation [6000/10000]\n",
      "INFO:tensorflow:Evaluation [7000/10000]\n",
      "INFO:tensorflow:Evaluation [8000/10000]\n",
      "INFO:tensorflow:Evaluation [9000/10000]\n",
      "INFO:tensorflow:Evaluation [10000/10000]\n",
      "INFO:tensorflow:Finished evaluation at 2018-11-18-05:53:16\n",
      "INFO:tensorflow:Saving dict for global step 10000: accuracy = 0.97395, auc = 0.83005244, global_step = 10000, loss = 0.023727657, precision = 0.3218722, recall = 0.6817512\n"
     ]
    }
   ],
   "source": [
    "result=model.evaluate(input_fn=eval_input_fn,steps=10000)"
   ]
  },
  {
   "cell_type": "code",
   "execution_count": 39,
   "metadata": {},
   "outputs": [
    {
     "data": {
      "text/plain": [
       "{'accuracy': 0.92153907,\n",
       " 'auc': 0.8345326,\n",
       " 'global_step': 1000,\n",
       " 'loss': 0.15353142,\n",
       " 'precision': 0.090100214,\n",
       " 'recall': 0.7457364}"
      ]
     },
     "execution_count": 39,
     "metadata": {},
     "output_type": "execute_result"
    }
   ],
   "source": [
    "result"
   ]
  },
  {
   "cell_type": "code",
   "execution_count": 56,
   "metadata": {},
   "outputs": [
    {
     "name": "stdout",
     "output_type": "stream",
     "text": [
      "Classification accuracy: 98.77%\n"
     ]
    }
   ],
   "source": [
    "print(\"Classification accuracy: {0:.2%}\".format(result[\"accuracy\"]))"
   ]
  },
  {
   "cell_type": "markdown",
   "metadata": {},
   "source": [
    "Predict"
   ]
  },
  {
   "cell_type": "code",
   "execution_count": 32,
   "metadata": {},
   "outputs": [],
   "source": [
    "#predict can use roughly the same data as evaluate\n",
    "#for predict we use the evaluated predicted classifications"
   ]
  },
  {
   "cell_type": "code",
   "execution_count": 79,
   "metadata": {},
   "outputs": [],
   "source": [
    "#some_data=evaldf[:10] #first 10 rows\n",
    "some_data=evaldf\n",
    "expected =some_data['label']\n",
    "pred_input_fn = tf.estimator.inputs.pandas_input_fn(\n",
    "  x=some_data, \n",
    "#  y=evaldf['label'], \n",
    "  num_epochs=1, \n",
    "  shuffle=False)"
   ]
  },
  {
   "cell_type": "code",
   "execution_count": 80,
   "metadata": {},
   "outputs": [
    {
     "data": {
      "text/plain": [
       "<generator object Estimator.predict at 0x7fc93c7d9258>"
      ]
     },
     "execution_count": 80,
     "metadata": {},
     "output_type": "execute_result"
    }
   ],
   "source": [
    "predictions = model.predict(input_fn=pred_input_fn)\n",
    "predictions"
   ]
  },
  {
   "cell_type": "code",
   "execution_count": 83,
   "metadata": {},
   "outputs": [],
   "source": [
    "#cls_pred = list(predictions)[:]\n",
    "#cls_pred"
   ]
  },
  {
   "cell_type": "code",
   "execution_count": 84,
   "metadata": {},
   "outputs": [],
   "source": [
    "#[cls_pred[i]['class_ids'] for i in range(len(cls_pred))]"
   ]
  },
  {
   "cell_type": "code",
   "execution_count": 41,
   "metadata": {},
   "outputs": [],
   "source": [
    "#a=[p['class_ids'][0] for p in cls_pred]\n",
    "#print(a)\n",
    "#print(list(expected))"
   ]
  },
  {
   "cell_type": "code",
   "execution_count": 42,
   "metadata": {},
   "outputs": [],
   "source": [
    "#template = ('\\nPrediction is \"{}\" ({:.1f}%), expected \"{}\"')\n",
    "\n",
    "#for pred_dict, expec in zip(cls_pred, expected):\n",
    "#    class_id = pred_dict['class_ids'][0]\n",
    "#    probability = pred_dict['probabilities'][class_id]\n",
    "\n",
    "#    print(template.format(class_id,100 * probability, expec))"
   ]
  },
  {
   "cell_type": "code",
   "execution_count": 60,
   "metadata": {},
   "outputs": [],
   "source": [
    "#confusion_matrix= tf.confusion_matrix(a, expected, num_classes=2)"
   ]
  },
  {
   "cell_type": "code",
   "execution_count": 52,
   "metadata": {},
   "outputs": [
    {
     "name": "stdout",
     "output_type": "stream",
     "text": [
      "[[73294  1074]\n",
      " [    0     0]]\n"
     ]
    }
   ],
   "source": [
    "## columns = prediction\n",
    "## rows = real\n",
    "#sess = tf.Session()\n",
    "#with sess.as_default():\n",
    "#  print(sess.run(confusion_matrix))"
   ]
  },
  {
   "cell_type": "code",
   "execution_count": null,
   "metadata": {},
   "outputs": [],
   "source": [
    "#                | predicted positive | predicted negative\n",
    "#----------------|--------------------|--------------------\n",
    "#actual positive |     TP             |     FN\n",
    "#actual negative |     FP             |     TN"
   ]
  },
  {
   "cell_type": "code",
   "execution_count": null,
   "metadata": {},
   "outputs": [],
   "source": []
  },
  {
   "cell_type": "code",
   "execution_count": null,
   "metadata": {},
   "outputs": [],
   "source": []
  }
 ],
 "metadata": {
  "kernelspec": {
   "display_name": "Python 3",
   "language": "python",
   "name": "python3"
  },
  "language_info": {
   "codemirror_mode": {
    "name": "ipython",
    "version": 3
   },
   "file_extension": ".py",
   "mimetype": "text/x-python",
   "name": "python",
   "nbconvert_exporter": "python",
   "pygments_lexer": "ipython3",
   "version": "3.5.5"
  }
 },
 "nbformat": 4,
 "nbformat_minor": 2
}
